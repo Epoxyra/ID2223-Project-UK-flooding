{
 "cells": [
  {
   "cell_type": "code",
   "execution_count": 5,
   "id": "063d9a22",
   "metadata": {
    "ExecuteTime": {
     "end_time": "2024-01-08T20:00:32.008170100Z",
     "start_time": "2024-01-08T20:00:26.663245800Z"
    }
   },
   "outputs": [],
   "source": [
    "import hopsworks\n",
    "import pandas as pd\n",
    "from sklearn.metrics import roc_auc_score\n",
    "from sklearn.preprocessing import MinMaxScaler\n",
    "from sklearn.linear_model import LinearRegression\n",
    "from sklearn.svm import SVC\n",
    "from sklearn.linear_model import LogisticRegression\n",
    "from sklearn.metrics import accuracy_score\n",
    "from sklearn.metrics import mean_squared_error\n",
    "from sklearn.metrics import classification_report\n",
    "from matplotlib import pyplot\n",
    "from hsml.schema import Schema\n",
    "from hsml.model_schema import ModelSchema\n",
    "import matplotlib.pyplot as plt\n",
    "import joblib\n",
    "import os\n",
    "os.environ['HOPSWORKS_API_KEY'] = 'cKV1tKzokpcwviY6.uP2qcFV2wWI8xxNu1I0UxyeqlRHqSEanLgKFjf5R1ypSy8A3AUnRkRpi0R9Gc5l0'"
   ]
  },
  {
   "cell_type": "code",
   "execution_count": 6,
   "id": "5ce90341",
   "metadata": {
    "ExecuteTime": {
     "end_time": "2024-01-08T20:00:33.862689900Z",
     "start_time": "2024-01-08T20:00:32.019091900Z"
    }
   },
   "outputs": [
    {
     "name": "stdout",
     "output_type": "stream",
     "text": [
      "Connected. Call `.close()` to terminate connection gracefully.\n",
      "\n",
      "Logged in to project, explore it here https://c.app.hopsworks.ai:443/p/196759\n",
      "Connected. Call `.close()` to terminate connection gracefully.\n"
     ]
    }
   ],
   "source": [
    "# You have to set the environment variable 'HOPSWORKS_API_KEY' for login to succeed\n",
    "project = hopsworks.login()\n",
    "fs = project.get_feature_store()"
   ]
  },
  {
   "cell_type": "code",
   "execution_count": 7,
   "id": "359ed7b3",
   "metadata": {
    "scrolled": true,
    "ExecuteTime": {
     "end_time": "2024-01-08T20:00:39.644525200Z",
     "start_time": "2024-01-08T20:00:38.518527600Z"
    }
   },
   "outputs": [],
   "source": [
    "# The feature view is the input set of features for your model. The features can come from different feature groups.    \n",
    "# You can select features from different feature groups and join them together to create a feature view\n",
    "flood_fg = fs.get_feature_group(name=\"flood\", version=1)\n",
    "query = flood_fg.select_all()\n",
    "feature_view = fs.get_or_create_feature_view(name=\"flood\",\n",
    "                                  version=1,\n",
    "                                  description=\"Flood risk prediction\",\n",
    "                                  labels=[\"severitylevel\"],\n",
    "                                  query=query)"
   ]
  },
  {
   "cell_type": "code",
   "execution_count": 8,
   "id": "42fbcfd3",
   "metadata": {
    "ExecuteTime": {
     "end_time": "2024-01-08T20:00:46.885371900Z",
     "start_time": "2024-01-08T20:00:41.790044900Z"
    }
   },
   "outputs": [
    {
     "name": "stdout",
     "output_type": "stream",
     "text": [
      "Finished: Reading data from Hopsworks, using ArrowFlight (1.04s) \n"
     ]
    },
    {
     "name": "stderr",
     "output_type": "stream",
     "text": [
      "VersionWarning: Incremented version to `3`.\n"
     ]
    }
   ],
   "source": [
    "# You can read training data, randomly split into train/test sets of features (X) and labels (y)        \n",
    "X_train, X_test, y_train, y_test = feature_view.train_test_split(0.2)"
   ]
  },
  {
   "cell_type": "code",
   "execution_count": 9,
   "id": "78142fce",
   "metadata": {
    "ExecuteTime": {
     "end_time": "2024-01-08T20:00:47.927596600Z",
     "start_time": "2024-01-08T20:00:47.895451600Z"
    }
   },
   "outputs": [
    {
     "data": {
      "text/plain": "    value\n0   0.516\n1   0.514\n2   0.504\n3   0.618\n4   0.524\n6   0.599\n8   0.443\n9   0.568\n10  0.539\n11  0.506\n13  0.547\n14  0.508\n15  0.472\n17  0.485\n18  0.572\n19  0.535\n21  0.440\n22  0.529\n23  0.574\n24  0.560\n25  0.493\n26  0.595\n27  0.477\n28  0.454\n30  0.517\n31  0.491\n32  0.527\n33  0.479\n34  0.543\n35  0.523\n36  0.452\n38  0.577\n39  0.519\n40  0.617\n41  0.444\n42  0.517\n44  0.593\n45  0.579\n46  0.598\n48  0.418\n49  0.581\n50  0.494\n51  0.607\n52  0.486\n53  0.471\n54  0.428\n55  0.538\n56  0.449\n58  0.437\n60  0.586\n61  0.524\n63  0.518\n64  0.482\n65  0.526\n67  0.528\n68  0.492\n71  0.596\n72  0.557\n73  0.594",
      "text/html": "<div>\n<style scoped>\n    .dataframe tbody tr th:only-of-type {\n        vertical-align: middle;\n    }\n\n    .dataframe tbody tr th {\n        vertical-align: top;\n    }\n\n    .dataframe thead th {\n        text-align: right;\n    }\n</style>\n<table border=\"1\" class=\"dataframe\">\n  <thead>\n    <tr style=\"text-align: right;\">\n      <th></th>\n      <th>value</th>\n    </tr>\n  </thead>\n  <tbody>\n    <tr>\n      <th>0</th>\n      <td>0.516</td>\n    </tr>\n    <tr>\n      <th>1</th>\n      <td>0.514</td>\n    </tr>\n    <tr>\n      <th>2</th>\n      <td>0.504</td>\n    </tr>\n    <tr>\n      <th>3</th>\n      <td>0.618</td>\n    </tr>\n    <tr>\n      <th>4</th>\n      <td>0.524</td>\n    </tr>\n    <tr>\n      <th>6</th>\n      <td>0.599</td>\n    </tr>\n    <tr>\n      <th>8</th>\n      <td>0.443</td>\n    </tr>\n    <tr>\n      <th>9</th>\n      <td>0.568</td>\n    </tr>\n    <tr>\n      <th>10</th>\n      <td>0.539</td>\n    </tr>\n    <tr>\n      <th>11</th>\n      <td>0.506</td>\n    </tr>\n    <tr>\n      <th>13</th>\n      <td>0.547</td>\n    </tr>\n    <tr>\n      <th>14</th>\n      <td>0.508</td>\n    </tr>\n    <tr>\n      <th>15</th>\n      <td>0.472</td>\n    </tr>\n    <tr>\n      <th>17</th>\n      <td>0.485</td>\n    </tr>\n    <tr>\n      <th>18</th>\n      <td>0.572</td>\n    </tr>\n    <tr>\n      <th>19</th>\n      <td>0.535</td>\n    </tr>\n    <tr>\n      <th>21</th>\n      <td>0.440</td>\n    </tr>\n    <tr>\n      <th>22</th>\n      <td>0.529</td>\n    </tr>\n    <tr>\n      <th>23</th>\n      <td>0.574</td>\n    </tr>\n    <tr>\n      <th>24</th>\n      <td>0.560</td>\n    </tr>\n    <tr>\n      <th>25</th>\n      <td>0.493</td>\n    </tr>\n    <tr>\n      <th>26</th>\n      <td>0.595</td>\n    </tr>\n    <tr>\n      <th>27</th>\n      <td>0.477</td>\n    </tr>\n    <tr>\n      <th>28</th>\n      <td>0.454</td>\n    </tr>\n    <tr>\n      <th>30</th>\n      <td>0.517</td>\n    </tr>\n    <tr>\n      <th>31</th>\n      <td>0.491</td>\n    </tr>\n    <tr>\n      <th>32</th>\n      <td>0.527</td>\n    </tr>\n    <tr>\n      <th>33</th>\n      <td>0.479</td>\n    </tr>\n    <tr>\n      <th>34</th>\n      <td>0.543</td>\n    </tr>\n    <tr>\n      <th>35</th>\n      <td>0.523</td>\n    </tr>\n    <tr>\n      <th>36</th>\n      <td>0.452</td>\n    </tr>\n    <tr>\n      <th>38</th>\n      <td>0.577</td>\n    </tr>\n    <tr>\n      <th>39</th>\n      <td>0.519</td>\n    </tr>\n    <tr>\n      <th>40</th>\n      <td>0.617</td>\n    </tr>\n    <tr>\n      <th>41</th>\n      <td>0.444</td>\n    </tr>\n    <tr>\n      <th>42</th>\n      <td>0.517</td>\n    </tr>\n    <tr>\n      <th>44</th>\n      <td>0.593</td>\n    </tr>\n    <tr>\n      <th>45</th>\n      <td>0.579</td>\n    </tr>\n    <tr>\n      <th>46</th>\n      <td>0.598</td>\n    </tr>\n    <tr>\n      <th>48</th>\n      <td>0.418</td>\n    </tr>\n    <tr>\n      <th>49</th>\n      <td>0.581</td>\n    </tr>\n    <tr>\n      <th>50</th>\n      <td>0.494</td>\n    </tr>\n    <tr>\n      <th>51</th>\n      <td>0.607</td>\n    </tr>\n    <tr>\n      <th>52</th>\n      <td>0.486</td>\n    </tr>\n    <tr>\n      <th>53</th>\n      <td>0.471</td>\n    </tr>\n    <tr>\n      <th>54</th>\n      <td>0.428</td>\n    </tr>\n    <tr>\n      <th>55</th>\n      <td>0.538</td>\n    </tr>\n    <tr>\n      <th>56</th>\n      <td>0.449</td>\n    </tr>\n    <tr>\n      <th>58</th>\n      <td>0.437</td>\n    </tr>\n    <tr>\n      <th>60</th>\n      <td>0.586</td>\n    </tr>\n    <tr>\n      <th>61</th>\n      <td>0.524</td>\n    </tr>\n    <tr>\n      <th>63</th>\n      <td>0.518</td>\n    </tr>\n    <tr>\n      <th>64</th>\n      <td>0.482</td>\n    </tr>\n    <tr>\n      <th>65</th>\n      <td>0.526</td>\n    </tr>\n    <tr>\n      <th>67</th>\n      <td>0.528</td>\n    </tr>\n    <tr>\n      <th>68</th>\n      <td>0.492</td>\n    </tr>\n    <tr>\n      <th>71</th>\n      <td>0.596</td>\n    </tr>\n    <tr>\n      <th>72</th>\n      <td>0.557</td>\n    </tr>\n    <tr>\n      <th>73</th>\n      <td>0.594</td>\n    </tr>\n  </tbody>\n</table>\n</div>"
     },
     "execution_count": 9,
     "metadata": {},
     "output_type": "execute_result"
    }
   ],
   "source": [
    "X_train"
   ]
  },
  {
   "cell_type": "code",
   "execution_count": 10,
   "id": "7c8f56c4",
   "metadata": {
    "ExecuteTime": {
     "end_time": "2024-01-08T20:00:48.924275100Z",
     "start_time": "2024-01-08T20:00:48.897032900Z"
    }
   },
   "outputs": [
    {
     "data": {
      "text/plain": "    severitylevel\n0               3\n1               3\n2               2\n3               3\n4               3\n6               3\n8               2\n9               3\n10              3\n11              2\n13              3\n14              3\n15              2\n17              2\n18              3\n19              3\n21              2\n22              3\n23              3\n24              3\n25              2\n26              3\n27              2\n28              2\n30              2\n31              2\n32              3\n33              2\n34              3\n35              3\n36              2\n38              3\n39              3\n40              3\n41              2\n42              3\n44              3\n45              3\n46              3\n48              2\n49              3\n50              2\n51              3\n52              2\n53              2\n54              2\n55              3\n56              2\n58              2\n60              3\n61              2\n63              3\n64              2\n65              3\n67              3\n68              2\n71              3\n72              3\n73              3",
      "text/html": "<div>\n<style scoped>\n    .dataframe tbody tr th:only-of-type {\n        vertical-align: middle;\n    }\n\n    .dataframe tbody tr th {\n        vertical-align: top;\n    }\n\n    .dataframe thead th {\n        text-align: right;\n    }\n</style>\n<table border=\"1\" class=\"dataframe\">\n  <thead>\n    <tr style=\"text-align: right;\">\n      <th></th>\n      <th>severitylevel</th>\n    </tr>\n  </thead>\n  <tbody>\n    <tr>\n      <th>0</th>\n      <td>3</td>\n    </tr>\n    <tr>\n      <th>1</th>\n      <td>3</td>\n    </tr>\n    <tr>\n      <th>2</th>\n      <td>2</td>\n    </tr>\n    <tr>\n      <th>3</th>\n      <td>3</td>\n    </tr>\n    <tr>\n      <th>4</th>\n      <td>3</td>\n    </tr>\n    <tr>\n      <th>6</th>\n      <td>3</td>\n    </tr>\n    <tr>\n      <th>8</th>\n      <td>2</td>\n    </tr>\n    <tr>\n      <th>9</th>\n      <td>3</td>\n    </tr>\n    <tr>\n      <th>10</th>\n      <td>3</td>\n    </tr>\n    <tr>\n      <th>11</th>\n      <td>2</td>\n    </tr>\n    <tr>\n      <th>13</th>\n      <td>3</td>\n    </tr>\n    <tr>\n      <th>14</th>\n      <td>3</td>\n    </tr>\n    <tr>\n      <th>15</th>\n      <td>2</td>\n    </tr>\n    <tr>\n      <th>17</th>\n      <td>2</td>\n    </tr>\n    <tr>\n      <th>18</th>\n      <td>3</td>\n    </tr>\n    <tr>\n      <th>19</th>\n      <td>3</td>\n    </tr>\n    <tr>\n      <th>21</th>\n      <td>2</td>\n    </tr>\n    <tr>\n      <th>22</th>\n      <td>3</td>\n    </tr>\n    <tr>\n      <th>23</th>\n      <td>3</td>\n    </tr>\n    <tr>\n      <th>24</th>\n      <td>3</td>\n    </tr>\n    <tr>\n      <th>25</th>\n      <td>2</td>\n    </tr>\n    <tr>\n      <th>26</th>\n      <td>3</td>\n    </tr>\n    <tr>\n      <th>27</th>\n      <td>2</td>\n    </tr>\n    <tr>\n      <th>28</th>\n      <td>2</td>\n    </tr>\n    <tr>\n      <th>30</th>\n      <td>2</td>\n    </tr>\n    <tr>\n      <th>31</th>\n      <td>2</td>\n    </tr>\n    <tr>\n      <th>32</th>\n      <td>3</td>\n    </tr>\n    <tr>\n      <th>33</th>\n      <td>2</td>\n    </tr>\n    <tr>\n      <th>34</th>\n      <td>3</td>\n    </tr>\n    <tr>\n      <th>35</th>\n      <td>3</td>\n    </tr>\n    <tr>\n      <th>36</th>\n      <td>2</td>\n    </tr>\n    <tr>\n      <th>38</th>\n      <td>3</td>\n    </tr>\n    <tr>\n      <th>39</th>\n      <td>3</td>\n    </tr>\n    <tr>\n      <th>40</th>\n      <td>3</td>\n    </tr>\n    <tr>\n      <th>41</th>\n      <td>2</td>\n    </tr>\n    <tr>\n      <th>42</th>\n      <td>3</td>\n    </tr>\n    <tr>\n      <th>44</th>\n      <td>3</td>\n    </tr>\n    <tr>\n      <th>45</th>\n      <td>3</td>\n    </tr>\n    <tr>\n      <th>46</th>\n      <td>3</td>\n    </tr>\n    <tr>\n      <th>48</th>\n      <td>2</td>\n    </tr>\n    <tr>\n      <th>49</th>\n      <td>3</td>\n    </tr>\n    <tr>\n      <th>50</th>\n      <td>2</td>\n    </tr>\n    <tr>\n      <th>51</th>\n      <td>3</td>\n    </tr>\n    <tr>\n      <th>52</th>\n      <td>2</td>\n    </tr>\n    <tr>\n      <th>53</th>\n      <td>2</td>\n    </tr>\n    <tr>\n      <th>54</th>\n      <td>2</td>\n    </tr>\n    <tr>\n      <th>55</th>\n      <td>3</td>\n    </tr>\n    <tr>\n      <th>56</th>\n      <td>2</td>\n    </tr>\n    <tr>\n      <th>58</th>\n      <td>2</td>\n    </tr>\n    <tr>\n      <th>60</th>\n      <td>3</td>\n    </tr>\n    <tr>\n      <th>61</th>\n      <td>2</td>\n    </tr>\n    <tr>\n      <th>63</th>\n      <td>3</td>\n    </tr>\n    <tr>\n      <th>64</th>\n      <td>2</td>\n    </tr>\n    <tr>\n      <th>65</th>\n      <td>3</td>\n    </tr>\n    <tr>\n      <th>67</th>\n      <td>3</td>\n    </tr>\n    <tr>\n      <th>68</th>\n      <td>2</td>\n    </tr>\n    <tr>\n      <th>71</th>\n      <td>3</td>\n    </tr>\n    <tr>\n      <th>72</th>\n      <td>3</td>\n    </tr>\n    <tr>\n      <th>73</th>\n      <td>3</td>\n    </tr>\n  </tbody>\n</table>\n</div>"
     },
     "execution_count": 10,
     "metadata": {},
     "output_type": "execute_result"
    }
   ],
   "source": [
    "y_train"
   ]
  },
  {
   "cell_type": "code",
   "execution_count": 14,
   "id": "77aa0aee",
   "metadata": {
    "ExecuteTime": {
     "end_time": "2024-01-08T20:04:23.873510600Z",
     "start_time": "2024-01-08T20:04:23.648227100Z"
    }
   },
   "outputs": [
    {
     "name": "stdout",
     "output_type": "stream",
     "text": [
      "Mean square error : 0.07035908225042754\n"
     ]
    },
    {
     "ename": "ValueError",
     "evalue": "Classification metrics can't handle a mix of binary and continuous targets",
     "output_type": "error",
     "traceback": [
      "\u001B[1;31m---------------------------------------------------------------------------\u001B[0m",
      "\u001B[1;31mValueError\u001B[0m                                Traceback (most recent call last)",
      "Cell \u001B[1;32mIn[14], line 10\u001B[0m\n\u001B[0;32m      7\u001B[0m mse \u001B[38;5;241m=\u001B[39m mean_squared_error(y_test, y_pred)\n\u001B[0;32m      8\u001B[0m \u001B[38;5;28mprint\u001B[39m(\u001B[38;5;124mf\u001B[39m\u001B[38;5;124m'\u001B[39m\u001B[38;5;124mMean square error : \u001B[39m\u001B[38;5;132;01m{\u001B[39;00mmse\u001B[38;5;132;01m}\u001B[39;00m\u001B[38;5;124m'\u001B[39m)\n\u001B[1;32m---> 10\u001B[0m metrics \u001B[38;5;241m=\u001B[39m \u001B[43mclassification_report\u001B[49m\u001B[43m(\u001B[49m\u001B[43my_test\u001B[49m\u001B[43m,\u001B[49m\u001B[43m \u001B[49m\u001B[43my_pred\u001B[49m\u001B[43m,\u001B[49m\u001B[43m \u001B[49m\u001B[43moutput_dict\u001B[49m\u001B[38;5;241;43m=\u001B[39;49m\u001B[38;5;28;43;01mTrue\u001B[39;49;00m\u001B[43m)\u001B[49m\n\u001B[0;32m     11\u001B[0m \u001B[38;5;28mprint\u001B[39m(metrics)\n",
      "File \u001B[1;32m~\\Desktop\\cour\\s9\\Scalable Machine Learning and Deep Learning\\ID2223-Project-UK-flooding\\venv\\lib\\site-packages\\sklearn\\metrics\\_classification.py:2125\u001B[0m, in \u001B[0;36mclassification_report\u001B[1;34m(y_true, y_pred, labels, target_names, sample_weight, digits, output_dict, zero_division)\u001B[0m\n\u001B[0;32m   2010\u001B[0m \u001B[38;5;28;01mdef\u001B[39;00m \u001B[38;5;21mclassification_report\u001B[39m(\n\u001B[0;32m   2011\u001B[0m     y_true,\n\u001B[0;32m   2012\u001B[0m     y_pred,\n\u001B[1;32m   (...)\u001B[0m\n\u001B[0;32m   2019\u001B[0m     zero_division\u001B[38;5;241m=\u001B[39m\u001B[38;5;124m\"\u001B[39m\u001B[38;5;124mwarn\u001B[39m\u001B[38;5;124m\"\u001B[39m,\n\u001B[0;32m   2020\u001B[0m ):\n\u001B[0;32m   2021\u001B[0m \u001B[38;5;250m    \u001B[39m\u001B[38;5;124;03m\"\"\"Build a text report showing the main classification metrics.\u001B[39;00m\n\u001B[0;32m   2022\u001B[0m \n\u001B[0;32m   2023\u001B[0m \u001B[38;5;124;03m    Read more in the :ref:`User Guide <classification_report>`.\u001B[39;00m\n\u001B[1;32m   (...)\u001B[0m\n\u001B[0;32m   2122\u001B[0m \u001B[38;5;124;03m    <BLANKLINE>\u001B[39;00m\n\u001B[0;32m   2123\u001B[0m \u001B[38;5;124;03m    \"\"\"\u001B[39;00m\n\u001B[1;32m-> 2125\u001B[0m     y_type, y_true, y_pred \u001B[38;5;241m=\u001B[39m \u001B[43m_check_targets\u001B[49m\u001B[43m(\u001B[49m\u001B[43my_true\u001B[49m\u001B[43m,\u001B[49m\u001B[43m \u001B[49m\u001B[43my_pred\u001B[49m\u001B[43m)\u001B[49m\n\u001B[0;32m   2127\u001B[0m     \u001B[38;5;28;01mif\u001B[39;00m labels \u001B[38;5;129;01mis\u001B[39;00m \u001B[38;5;28;01mNone\u001B[39;00m:\n\u001B[0;32m   2128\u001B[0m         labels \u001B[38;5;241m=\u001B[39m unique_labels(y_true, y_pred)\n",
      "File \u001B[1;32m~\\Desktop\\cour\\s9\\Scalable Machine Learning and Deep Learning\\ID2223-Project-UK-flooding\\venv\\lib\\site-packages\\sklearn\\metrics\\_classification.py:93\u001B[0m, in \u001B[0;36m_check_targets\u001B[1;34m(y_true, y_pred)\u001B[0m\n\u001B[0;32m     90\u001B[0m     y_type \u001B[38;5;241m=\u001B[39m {\u001B[38;5;124m\"\u001B[39m\u001B[38;5;124mmulticlass\u001B[39m\u001B[38;5;124m\"\u001B[39m}\n\u001B[0;32m     92\u001B[0m \u001B[38;5;28;01mif\u001B[39;00m \u001B[38;5;28mlen\u001B[39m(y_type) \u001B[38;5;241m>\u001B[39m \u001B[38;5;241m1\u001B[39m:\n\u001B[1;32m---> 93\u001B[0m     \u001B[38;5;28;01mraise\u001B[39;00m \u001B[38;5;167;01mValueError\u001B[39;00m(\n\u001B[0;32m     94\u001B[0m         \u001B[38;5;124m\"\u001B[39m\u001B[38;5;124mClassification metrics can\u001B[39m\u001B[38;5;124m'\u001B[39m\u001B[38;5;124mt handle a mix of \u001B[39m\u001B[38;5;132;01m{0}\u001B[39;00m\u001B[38;5;124m and \u001B[39m\u001B[38;5;132;01m{1}\u001B[39;00m\u001B[38;5;124m targets\u001B[39m\u001B[38;5;124m\"\u001B[39m\u001B[38;5;241m.\u001B[39mformat(\n\u001B[0;32m     95\u001B[0m             type_true, type_pred\n\u001B[0;32m     96\u001B[0m         )\n\u001B[0;32m     97\u001B[0m     )\n\u001B[0;32m     99\u001B[0m \u001B[38;5;66;03m# We can't have more than one value on y_type => The set is no more needed\u001B[39;00m\n\u001B[0;32m    100\u001B[0m y_type \u001B[38;5;241m=\u001B[39m y_type\u001B[38;5;241m.\u001B[39mpop()\n",
      "\u001B[1;31mValueError\u001B[0m: Classification metrics can't handle a mix of binary and continuous targets"
     ]
    }
   ],
   "source": [
    "model = LinearRegression()\n",
    "\n",
    "model.fit(X_train, y_train)\n",
    "\n",
    "y_pred = model.predict(X_test)\n",
    "\n",
    "mse = mean_squared_error(y_test, y_pred)\n",
    "print(f'Mean square error : {mse}')\n"
   ]
  },
  {
   "cell_type": "markdown",
   "metadata": {},
   "source": [
    "As we can see by the displyed accuracies, k=10 is the best value for k"
   ]
  },
  {
   "cell_type": "code",
   "execution_count": 12,
   "metadata": {
    "ExecuteTime": {
     "end_time": "2024-01-08T20:01:33.677271600Z",
     "start_time": "2024-01-08T20:01:33.379122100Z"
    }
   },
   "outputs": [
    {
     "data": {
      "text/plain": "<Figure size 640x480 with 1 Axes>",
      "image/png": "[encoded data removed]"
     },
     "metadata": {},
     "output_type": "display_data"
    }
   ],
   "source": [
    "plt.scatter(X_test, y_test, color='black')\n",
    "plt.plot(X_test, y_pred, color='blue', linewidth=3)\n",
    "plt.xlabel('X')\n",
    "plt.ylabel('y')\n",
    "plt.title('Régression linéaire avec scikit-learn')\n",
    "plt.show()"
   ]
  },
  {
   "cell_type": "code",
   "execution_count": 15,
   "id": "bcfdfc4f",
   "metadata": {
    "scrolled": true,
    "ExecuteTime": {
     "end_time": "2024-01-08T20:10:05.460505900Z",
     "start_time": "2024-01-08T20:09:53.517862Z"
    }
   },
   "outputs": [
    {
     "name": "stdout",
     "output_type": "stream",
     "text": [
      "Connected. Call `.close()` to terminate connection gracefully.\n"
     ]
    },
    {
     "data": {
      "text/plain": "  0%|          | 0/6 [00:00<?, ?it/s]",
      "application/vnd.jupyter.widget-view+json": {
       "version_major": 2,
       "version_minor": 0,
       "model_id": "9a62e79ec6d645b19e4bcf25f445aa88"
      }
     },
     "metadata": {},
     "output_type": "display_data"
    },
    {
     "data": {
      "text/plain": "Uploading: 0.000%|          | 0/895 elapsed<00:00 remaining<?",
      "application/vnd.jupyter.widget-view+json": {
       "version_major": 2,
       "version_minor": 0,
       "model_id": "94428f5951d8448fb81f37721a25e296"
      }
     },
     "metadata": {},
     "output_type": "display_data"
    },
    {
     "data": {
      "text/plain": "Uploading: 0.000%|          | 0/272 elapsed<00:00 remaining<?",
      "application/vnd.jupyter.widget-view+json": {
       "version_major": 2,
       "version_minor": 0,
       "model_id": "3d443985cec347d489104a3b4853c42e"
      }
     },
     "metadata": {},
     "output_type": "display_data"
    },
    {
     "name": "stdout",
     "output_type": "stream",
     "text": [
      "Model created, explore it at https://c.app.hopsworks.ai:443/p/196759/models/flood_model/1\n"
     ]
    },
    {
     "data": {
      "text/plain": "Model(name: 'flood_model', version: 1)"
     },
     "execution_count": 15,
     "metadata": {},
     "output_type": "execute_result"
    }
   ],
   "source": [
    "# We will now upload our model to the Hopsworks Model Registry. First get an object for the model registry.\n",
    "mr = project.get_model_registry()\n",
    "\n",
    "# The contents of the 'iris_model' directory will be saved to the model registry. Create the dir, first.\n",
    "model_dir=\"flood_model\"\n",
    "if os.path.isdir(model_dir) == False:\n",
    "    os.mkdir(model_dir)\n",
    "\n",
    "# Save both our model and the confusion matrix to 'model_dir', whose contents will be uploaded to the model registry\n",
    "joblib.dump(model, model_dir + \"/flood_model.pkl\")\n",
    "\n",
    "# Specify the schema of the model's input/output using the features (X_train) and labels (y_train)\n",
    "input_schema = Schema(X_train)\n",
    "output_schema = Schema(y_train)\n",
    "model_schema = ModelSchema(input_schema, output_schema)\n",
    "\n",
    "# Create an entry in the model registry that includes the model's name, desc, metrics\n",
    "flood_model = mr.python.create_model(\n",
    "    name=\"flood_model\",\n",
    "    metrics={\"Mean square error\": mse},\n",
    "    model_schema=model_schema,\n",
    "    description=\"Flood risk forecast\"\n",
    ")\n",
    "\n",
    "# Upload the model to the model registry, including all files in 'model_dir'\n",
    "flood_model.save(model_dir)"
   ]
  },
  {
   "cell_type": "code",
   "execution_count": null,
   "outputs": [],
   "source": [],
   "metadata": {
    "collapsed": false
   }
  }
 ],
 "metadata": {
  "kernelspec": {
   "display_name": "Python 3 (ipykernel)",
   "language": "python",
   "name": "python3"
  },
  "language_info": {
   "codemirror_mode": {
    "name": "ipython",
    "version": 3
   },
   "file_extension": ".py",
   "mimetype": "text/x-python",
   "name": "python",
   "nbconvert_exporter": "python",
   "pygments_lexer": "ipython3",
   "version": "3.10.13"
  }
 },
 "nbformat": 4,
 "nbformat_minor": 5
}
