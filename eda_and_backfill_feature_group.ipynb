{
 "cells": [
  {
   "cell_type": "code",
   "execution_count": 2,
   "metadata": {
    "collapsed": true,
    "ExecuteTime": {
     "end_time": "2024-01-08T18:44:14.028459Z",
     "start_time": "2024-01-08T18:44:03.200682100Z"
    }
   },
   "outputs": [],
   "source": [
    "import hopsworks\n",
    "import pandas as pd\n",
    "import os\n",
    "os.environ['HOPSWORKS_API_KEY'] = 'cKV1tKzokpcwviY6.uP2qcFV2wWI8xxNu1I0UxyeqlRHqSEanLgKFjf5R1ypSy8A3AUnRkRpi0R9Gc5l0'\n"
   ]
  },
  {
   "cell_type": "code",
   "execution_count": 3,
   "outputs": [
    {
     "name": "stdout",
     "output_type": "stream",
     "text": [
      "Connected. Call `.close()` to terminate connection gracefully.\n",
      "\n",
      "Logged in to project, explore it here https://c.app.hopsworks.ai:443/p/196759\n",
      "Connected. Call `.close()` to terminate connection gracefully.\n"
     ]
    }
   ],
   "source": [
    "project = hopsworks.login()\n",
    "fs = project.get_feature_store()"
   ],
   "metadata": {
    "collapsed": false,
    "ExecuteTime": {
     "end_time": "2024-01-08T18:44:16.230539700Z",
     "start_time": "2024-01-08T18:44:14.032462200Z"
    }
   }
  },
  {
   "cell_type": "code",
   "execution_count": 4,
   "outputs": [
    {
     "data": {
      "text/plain": "     value  severityLevel\n0    0.443              3\n1    0.428              3\n2    0.418              3\n3    0.440              3\n4    0.437              3\n..     ...            ...\n187  0.683              2\n188  0.691              2\n189  0.675              2\n190  0.701              2\n191  0.703              2\n\n[192 rows x 2 columns]",
      "text/html": "<div>\n<style scoped>\n    .dataframe tbody tr th:only-of-type {\n        vertical-align: middle;\n    }\n\n    .dataframe tbody tr th {\n        vertical-align: top;\n    }\n\n    .dataframe thead th {\n        text-align: right;\n    }\n</style>\n<table border=\"1\" class=\"dataframe\">\n  <thead>\n    <tr style=\"text-align: right;\">\n      <th></th>\n      <th>value</th>\n      <th>severityLevel</th>\n    </tr>\n  </thead>\n  <tbody>\n    <tr>\n      <th>0</th>\n      <td>0.443</td>\n      <td>3</td>\n    </tr>\n    <tr>\n      <th>1</th>\n      <td>0.428</td>\n      <td>3</td>\n    </tr>\n    <tr>\n      <th>2</th>\n      <td>0.418</td>\n      <td>3</td>\n    </tr>\n    <tr>\n      <th>3</th>\n      <td>0.440</td>\n      <td>3</td>\n    </tr>\n    <tr>\n      <th>4</th>\n      <td>0.437</td>\n      <td>3</td>\n    </tr>\n    <tr>\n      <th>...</th>\n      <td>...</td>\n      <td>...</td>\n    </tr>\n    <tr>\n      <th>187</th>\n      <td>0.683</td>\n      <td>2</td>\n    </tr>\n    <tr>\n      <th>188</th>\n      <td>0.691</td>\n      <td>2</td>\n    </tr>\n    <tr>\n      <th>189</th>\n      <td>0.675</td>\n      <td>2</td>\n    </tr>\n    <tr>\n      <th>190</th>\n      <td>0.701</td>\n      <td>2</td>\n    </tr>\n    <tr>\n      <th>191</th>\n      <td>0.703</td>\n      <td>2</td>\n    </tr>\n  </tbody>\n</table>\n<p>192 rows × 2 columns</p>\n</div>"
     },
     "execution_count": 4,
     "metadata": {},
     "output_type": "execute_result"
    }
   ],
   "source": [
    "df = pd.read_csv(\"measures/measures_dataset.csv\")\n",
    "# Keep only the 'value' and 'severityLevel' columns\n",
    "selected_columns = ['value', 'severityLevel']\n",
    "flood_df = df[selected_columns]\n",
    "flood_df"
   ],
   "metadata": {
    "collapsed": false,
    "ExecuteTime": {
     "end_time": "2024-01-08T18:44:16.298331800Z",
     "start_time": "2024-01-08T18:44:16.235048900Z"
    }
   }
  },
  {
   "cell_type": "code",
   "execution_count": 5,
   "outputs": [
    {
     "name": "stdout",
     "output_type": "stream",
     "text": [
      "<class 'pandas.core.frame.DataFrame'>\n",
      "RangeIndex: 192 entries, 0 to 191\n",
      "Data columns (total 2 columns):\n",
      " #   Column         Non-Null Count  Dtype  \n",
      "---  ------         --------------  -----  \n",
      " 0   value          192 non-null    float64\n",
      " 1   severityLevel  192 non-null    int64  \n",
      "dtypes: float64(1), int64(1)\n",
      "memory usage: 3.1 KB\n"
     ]
    }
   ],
   "source": [
    "flood_df.info()"
   ],
   "metadata": {
    "collapsed": false,
    "ExecuteTime": {
     "end_time": "2024-01-08T18:44:16.413614600Z",
     "start_time": "2024-01-08T18:44:16.320422900Z"
    }
   }
  },
  {
   "cell_type": "code",
   "execution_count": 6,
   "outputs": [
    {
     "data": {
      "text/plain": "            value  severityLevel\ncount  192.000000     192.000000\nmean     0.590042       2.177083\nstd      0.074677       0.382737\nmin      0.418000       2.000000\n25%      0.527750       2.000000\n50%      0.608500       2.000000\n75%      0.653000       2.000000\nmax      0.703000       3.000000",
      "text/html": "<div>\n<style scoped>\n    .dataframe tbody tr th:only-of-type {\n        vertical-align: middle;\n    }\n\n    .dataframe tbody tr th {\n        vertical-align: top;\n    }\n\n    .dataframe thead th {\n        text-align: right;\n    }\n</style>\n<table border=\"1\" class=\"dataframe\">\n  <thead>\n    <tr style=\"text-align: right;\">\n      <th></th>\n      <th>value</th>\n      <th>severityLevel</th>\n    </tr>\n  </thead>\n  <tbody>\n    <tr>\n      <th>count</th>\n      <td>192.000000</td>\n      <td>192.000000</td>\n    </tr>\n    <tr>\n      <th>mean</th>\n      <td>0.590042</td>\n      <td>2.177083</td>\n    </tr>\n    <tr>\n      <th>std</th>\n      <td>0.074677</td>\n      <td>0.382737</td>\n    </tr>\n    <tr>\n      <th>min</th>\n      <td>0.418000</td>\n      <td>2.000000</td>\n    </tr>\n    <tr>\n      <th>25%</th>\n      <td>0.527750</td>\n      <td>2.000000</td>\n    </tr>\n    <tr>\n      <th>50%</th>\n      <td>0.608500</td>\n      <td>2.000000</td>\n    </tr>\n    <tr>\n      <th>75%</th>\n      <td>0.653000</td>\n      <td>2.000000</td>\n    </tr>\n    <tr>\n      <th>max</th>\n      <td>0.703000</td>\n      <td>3.000000</td>\n    </tr>\n  </tbody>\n</table>\n</div>"
     },
     "execution_count": 6,
     "metadata": {},
     "output_type": "execute_result"
    }
   ],
   "source": [
    "flood_df.describe()"
   ],
   "metadata": {
    "collapsed": false,
    "ExecuteTime": {
     "end_time": "2024-01-08T18:44:16.476496200Z",
     "start_time": "2024-01-08T18:44:16.346956200Z"
    }
   }
  },
  {
   "cell_type": "code",
   "execution_count": 7,
   "outputs": [
    {
     "data": {
      "text/plain": "severityLevel\n2    158\n3     34\nName: count, dtype: int64"
     },
     "execution_count": 7,
     "metadata": {},
     "output_type": "execute_result"
    }
   ],
   "source": [
    "flood_df['severityLevel'].value_counts()"
   ],
   "metadata": {
    "collapsed": false,
    "ExecuteTime": {
     "end_time": "2024-01-08T18:44:16.487018Z",
     "start_time": "2024-01-08T18:44:16.391806500Z"
    }
   }
  },
  {
   "cell_type": "code",
   "execution_count": 8,
   "outputs": [
    {
     "name": "stderr",
     "output_type": "stream",
     "text": [
      "FeatureGroupWarning: The ingested dataframe contains upper case letters in feature names: `['severityLevel']`. Feature names are sanitized to lower case in the feature store.\n"
     ]
    },
    {
     "data": {
      "text/plain": "Uploading Dataframe: 0.00% |          | Rows 0/192 | Elapsed Time: 00:00 | Remaining Time: ?",
      "application/vnd.jupyter.widget-view+json": {
       "version_major": 2,
       "version_minor": 0,
       "model_id": "3010fa6a48d4412e8fe0a4c9b1237eb0"
      }
     },
     "metadata": {},
     "output_type": "display_data"
    },
    {
     "name": "stdout",
     "output_type": "stream",
     "text": [
      "Launching job: flood_1_offline_fg_materialization\n",
      "Job started successfully, you can follow the progress at \n",
      "https://c.app.hopsworks.ai/p/196759/jobs/named/flood_1_offline_fg_materialization/executions\n"
     ]
    },
    {
     "data": {
      "text/plain": "(<hsfs.core.job.Job at 0x23bbc281cd0>, None)"
     },
     "execution_count": 8,
     "metadata": {},
     "output_type": "execute_result"
    }
   ],
   "source": [
    "flood_fg = fs.get_or_create_feature_group(\n",
    "    name=\"flood\",\n",
    "    version=1,\n",
    "    primary_key=[\"value\", \"severityLevel\"],\n",
    "    description=\"flood forecasting dataset\")\n",
    "flood_fg.insert(flood_df)"
   ],
   "metadata": {
    "collapsed": false,
    "ExecuteTime": {
     "end_time": "2024-01-08T18:44:23.470059600Z",
     "start_time": "2024-01-08T18:44:16.392804700Z"
    }
   }
  },
  {
   "cell_type": "code",
   "execution_count": 8,
   "outputs": [],
   "source": [],
   "metadata": {
    "collapsed": false,
    "ExecuteTime": {
     "end_time": "2024-01-08T18:44:23.513221900Z",
     "start_time": "2024-01-08T18:44:23.473060200Z"
    }
   }
  }
 ],
 "metadata": {
  "kernelspec": {
   "display_name": "Python 3",
   "language": "python",
   "name": "python3"
  },
  "language_info": {
   "codemirror_mode": {
    "name": "ipython",
    "version": 2
   },
   "file_extension": ".py",
   "mimetype": "text/x-python",
   "name": "python",
   "nbconvert_exporter": "python",
   "pygments_lexer": "ipython2",
   "version": "2.7.6"
  }
 },
 "nbformat": 4,
 "nbformat_minor": 0
}
